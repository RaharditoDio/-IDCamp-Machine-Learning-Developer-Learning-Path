{
 "cells": [
  {
   "cell_type": "markdown",
   "metadata": {},
   "source": [
    "### Tipe Data pada Python"
   ]
  },
  {
   "cell_type": "markdown",
   "metadata": {},
   "source": [
    "###### Numbers, String, dan Boolean"
   ]
  },
  {
   "cell_type": "code",
   "execution_count": 1,
   "metadata": {},
   "outputs": [
    {
     "name": "stdout",
     "output_type": "stream",
     "text": [
      "10 bertipe <class 'int'>\n",
      "10 bertipe <class 'float'>\n",
      "(1+3j)  Bertipe bilangan kompleks?  True\n"
     ]
    }
   ],
   "source": [
    "# Number\n",
    "\n",
    "a = 10 \n",
    "print(a, \"bertipe\", type(a)) # int\n",
    "b = 1.7\n",
    "print(a, \"bertipe\", type(b)) # float\n",
    "c = 1+3j\n",
    "print(c, \" Bertipe bilangan kompleks? \", isinstance(1+3j,complex)) # complex"
   ]
  },
  {
   "cell_type": "code",
   "execution_count": 2,
   "metadata": {},
   "outputs": [
    {
     "name": "stdout",
     "output_type": "stream",
     "text": [
      "33644764876431783266621612005107543310302148460680063906564769974680081442166662368155595513633734025582065332680836159373734790483865268263040892463056431887354544369559827491606602099884183933864652731300088830269235673613135117579297437854413752130520504347701602264758318906527890855154366159582987279682987510631200575428783453215515103870818298969791613127856265033195487140214287532698187962046936097879900350962302291026368131493195275630227837628441540360584402572114334961180023091208287046088923962328835461505776583271252546093591128203925285393434620904245248929403901706233888991085841065183173360437470737908552631764325733993712871937587746897479926305837065742830161637408969178426378624212835258112820516370298089332099905707920064367426202389783111470054074998459250360633560933883831923386783056136435351892133279732908133732642652633989763922723407882928177953580570993691049175470808931841056146322338217465637321248226383092103297701648054726243842374862411453093812206564914032751086643394517512161526545361333111314042436854805106765843493523836959653428071768775328348234345557366719731392746273629108210679280784718035329131176778924659089938635459327894523777674406192240337638674004021330343297496902028328145933418826817683893072003634795623117103101291953169794607632737589253530772552375943788434504067715555779056450443016640119462580972216729758615026968443146952034614932291105970676243268515992834709891284706740862008587135016260312071903172086094081298321581077282076353186624611278245537208532365305775956430072517744315051539600905168603220349163222640885248852433158051534849622434848299380905070483482449327453732624567755879089187190803662058009594743150052402532709746995318770724376825907419939632265984147498193609285223945039707165443156421328157688908058783183404917434556270520223564846495196112460268313970975069382648706613264507665074611512677522748621598642530711298441182622661057163515069260029861704945425047491378115154139941550671256271197133252763631939606902895650288268608362241082050562430701794976171121233066073310059947366875\n"
     ]
    }
   ],
   "source": [
    "x=[0]*10005;              #inisialisasi array 0 sebanyak 10005; x[0]=0\n",
    "x[1]=1;                   #x[1]=1\n",
    "     \n",
    "for j in range(2,10001):\n",
    "        x[j]=x[j-1]+x[j-2]  # Fibonacci\n",
    "print(x[10000])"
   ]
  },
  {
   "cell_type": "code",
   "execution_count": 3,
   "metadata": {},
   "outputs": [
    {
     "name": "stdout",
     "output_type": "stream",
     "text": [
      "0.12345678901234568\n"
     ]
    }
   ],
   "source": [
    "b = 0.1234567890123456789\n",
    "print(b)"
   ]
  },
  {
   "cell_type": "code",
   "execution_count": 4,
   "metadata": {},
   "outputs": [
    {
     "name": "stdout",
     "output_type": "stream",
     "text": [
      "1234567890123456789\n"
     ]
    }
   ],
   "source": [
    "a = 1234567890123456789\n",
    "print(a)"
   ]
  },
  {
   "cell_type": "code",
   "execution_count": 5,
   "metadata": {},
   "outputs": [
    {
     "name": "stdout",
     "output_type": "stream",
     "text": [
      "(1+5j)\n"
     ]
    }
   ],
   "source": [
    "c = 1+5j\n",
    "print(c)"
   ]
  },
  {
   "cell_type": "code",
   "execution_count": 6,
   "metadata": {},
   "outputs": [],
   "source": [
    "# Strings\n",
    "s = \"Ini adalah string baris tunggal\""
   ]
  },
  {
   "cell_type": "code",
   "execution_count": 7,
   "metadata": {},
   "outputs": [],
   "source": [
    "s = '''Ini adalah string\n",
    "    yang memiliki baris pertama\n",
    "    dan selanjutnya baris kedua'''"
   ]
  },
  {
   "cell_type": "markdown",
   "metadata": {},
   "source": [
    "###### List, Slicing, Tuple, Set, dan Dictionary"
   ]
  },
  {
   "cell_type": "code",
   "execution_count": 8,
   "metadata": {},
   "outputs": [],
   "source": [
    "# List\n",
    "a = [1, 2.2, 'python']"
   ]
  },
  {
   "cell_type": "code",
   "execution_count": 9,
   "metadata": {},
   "outputs": [
    {
     "name": "stdout",
     "output_type": "stream",
     "text": [
      "30\n",
      "40\n",
      "[20, 25]\n",
      "[5, 10, 15, 20, 25]\n",
      "[30, 35, 40]\n",
      "[10, 20, 30]\n"
     ]
    }
   ],
   "source": [
    "x = [5,10,15,20,25,30,35,40]\n",
    "print(x[5])\n",
    "print(x[-1])\n",
    "print(x[3:5])\n",
    "print(x[:5])\n",
    "print(x[-3:])\n",
    "print(x[1:7:2])"
   ]
  },
  {
   "cell_type": "code",
   "execution_count": 10,
   "metadata": {},
   "outputs": [
    {
     "name": "stdout",
     "output_type": "stream",
     "text": [
      "[1, 2, 4]\n"
     ]
    }
   ],
   "source": [
    "x = [1,2,3]\n",
    "x[2]=4\n",
    "print (x)"
   ]
  },
  {
   "cell_type": "code",
   "execution_count": 11,
   "metadata": {},
   "outputs": [
    {
     "name": "stdout",
     "output_type": "stream",
     "text": [
      "[1, 2, 4, 5]\n"
     ]
    }
   ],
   "source": [
    "x = [1,2,3]\n",
    "x[2]=4 # mengganti\n",
    "x.append(5) # menambah\n",
    "print(x)"
   ]
  },
  {
   "cell_type": "code",
   "execution_count": 12,
   "metadata": {},
   "outputs": [
    {
     "name": "stdout",
     "output_type": "stream",
     "text": [
      "['kucing', 'rusa', 'gajah']\n"
     ]
    }
   ],
   "source": [
    "binatang = ['kucing', 'rusa', 'badak', 'gajah']\n",
    "del binatang[2] # Untuk menghapus item pada list\n",
    "print(binatang)"
   ]
  },
  {
   "cell_type": "code",
   "execution_count": 13,
   "metadata": {},
   "outputs": [
    {
     "name": "stdout",
     "output_type": "stream",
     "text": [
      "['kucing', 'rusa']\n"
     ]
    }
   ],
   "source": [
    "del binatang [2]\n",
    "print(binatang)"
   ]
  },
  {
   "cell_type": "code",
   "execution_count": 14,
   "metadata": {},
   "outputs": [
    {
     "name": "stdout",
     "output_type": "stream",
     "text": [
      "o\n",
      "World\n"
     ]
    },
    {
     "ename": "TypeError",
     "evalue": "'str' object does not support item assignment",
     "output_type": "error",
     "traceback": [
      "\u001b[1;31m---------------------------------------------------------------------------\u001b[0m",
      "\u001b[1;31mTypeError\u001b[0m                                 Traceback (most recent call last)",
      "\u001b[1;32m<ipython-input-14-6522d62d554e>\u001b[0m in \u001b[0;36m<module>\u001b[1;34m\u001b[0m\n\u001b[0;32m      3\u001b[0m \u001b[0mprint\u001b[0m\u001b[1;33m(\u001b[0m\u001b[0ms\u001b[0m\u001b[1;33m[\u001b[0m\u001b[1;36m4\u001b[0m\u001b[1;33m]\u001b[0m\u001b[1;33m)\u001b[0m             \u001b[1;31m#ambil karakter kelima dari string s\u001b[0m\u001b[1;33m\u001b[0m\u001b[1;33m\u001b[0m\u001b[0m\n\u001b[0;32m      4\u001b[0m \u001b[0mprint\u001b[0m\u001b[1;33m(\u001b[0m\u001b[0ms\u001b[0m\u001b[1;33m[\u001b[0m\u001b[1;36m6\u001b[0m\u001b[1;33m:\u001b[0m\u001b[1;36m11\u001b[0m\u001b[1;33m]\u001b[0m\u001b[1;33m)\u001b[0m          \u001b[1;31m#ambil karakter ketujuh hingga sebelas dari string s\u001b[0m\u001b[1;33m\u001b[0m\u001b[1;33m\u001b[0m\u001b[0m\n\u001b[1;32m----> 5\u001b[1;33m \u001b[0ms\u001b[0m\u001b[1;33m[\u001b[0m\u001b[1;36m5\u001b[0m\u001b[1;33m]\u001b[0m\u001b[1;33m=\u001b[0m\u001b[1;34m\"d\"\u001b[0m                \u001b[1;31m#ubah karakter keenam dari string s menjadi \"d\", seharusnya gagal karena immutable\u001b[0m\u001b[1;33m\u001b[0m\u001b[1;33m\u001b[0m\u001b[0m\n\u001b[0m\u001b[0;32m      6\u001b[0m \u001b[0ms\u001b[0m \u001b[1;33m=\u001b[0m \u001b[1;34m\"Halo Dunia!\"\u001b[0m       \u001b[1;31m#ubah isi string s menjadi \"Halo Dunia!\", seharusnya berhasil karena mutable\u001b[0m\u001b[1;33m\u001b[0m\u001b[1;33m\u001b[0m\u001b[0m\n\u001b[0;32m      7\u001b[0m \u001b[0mprint\u001b[0m\u001b[1;33m(\u001b[0m\u001b[0ms\u001b[0m\u001b[1;33m)\u001b[0m\u001b[1;33m\u001b[0m\u001b[1;33m\u001b[0m\u001b[0m\n",
      "\u001b[1;31mTypeError\u001b[0m: 'str' object does not support item assignment"
     ]
    }
   ],
   "source": [
    "# Slicing pada String\n",
    "s = \"Hello World!\"\n",
    "print(s[4]) \t\t#ambil karakter kelima dari string s\n",
    "print(s[6:11]) \t\t#ambil karakter ketujuh hingga sebelas dari string s\n",
    "s[5]=\"d\" \t\t#ubah karakter keenam dari string s menjadi \"d\", seharusnya gagal karena immutable\n",
    "s = \"Halo Dunia!\"\t#ubah isi string s menjadi \"Halo Dunia!\", seharusnya berhasil karena mutable\n",
    "print(s)"
   ]
  },
  {
   "cell_type": "code",
   "execution_count": null,
   "metadata": {},
   "outputs": [],
   "source": [
    "# Tuple\n",
    "t = (5,'program', 1+3j)"
   ]
  },
  {
   "cell_type": "code",
   "execution_count": 15,
   "metadata": {},
   "outputs": [
    {
     "ename": "NameError",
     "evalue": "name 't' is not defined",
     "output_type": "error",
     "traceback": [
      "\u001b[1;31m---------------------------------------------------------------------------\u001b[0m",
      "\u001b[1;31mNameError\u001b[0m                                 Traceback (most recent call last)",
      "\u001b[1;32m<ipython-input-15-da18be85c8dc>\u001b[0m in \u001b[0;36m<module>\u001b[1;34m\u001b[0m\n\u001b[1;32m----> 1\u001b[1;33m \u001b[0mprint\u001b[0m\u001b[1;33m(\u001b[0m\u001b[0mt\u001b[0m\u001b[1;33m[\u001b[0m\u001b[1;36m1\u001b[0m\u001b[1;33m]\u001b[0m\u001b[1;33m)\u001b[0m\u001b[1;33m\u001b[0m\u001b[1;33m\u001b[0m\u001b[0m\n\u001b[0m",
      "\u001b[1;31mNameError\u001b[0m: name 't' is not defined"
     ]
    }
   ],
   "source": [
    "print(t[1])"
   ]
  },
  {
   "cell_type": "code",
   "execution_count": 16,
   "metadata": {},
   "outputs": [
    {
     "ename": "NameError",
     "evalue": "name 't' is not defined",
     "output_type": "error",
     "traceback": [
      "\u001b[1;31m---------------------------------------------------------------------------\u001b[0m",
      "\u001b[1;31mNameError\u001b[0m                                 Traceback (most recent call last)",
      "\u001b[1;32m<ipython-input-16-159833046b92>\u001b[0m in \u001b[0;36m<module>\u001b[1;34m\u001b[0m\n\u001b[1;32m----> 1\u001b[1;33m \u001b[0mprint\u001b[0m\u001b[1;33m(\u001b[0m\u001b[0mt\u001b[0m\u001b[1;33m[\u001b[0m\u001b[1;36m0\u001b[0m\u001b[1;33m:\u001b[0m\u001b[1;36m3\u001b[0m\u001b[1;33m]\u001b[0m\u001b[1;33m)\u001b[0m\u001b[1;33m\u001b[0m\u001b[1;33m\u001b[0m\u001b[0m\n\u001b[0m",
      "\u001b[1;31mNameError\u001b[0m: name 't' is not defined"
     ]
    }
   ],
   "source": [
    "print(t[0:3])"
   ]
  },
  {
   "cell_type": "code",
   "execution_count": 17,
   "metadata": {},
   "outputs": [
    {
     "ename": "SyntaxError",
     "evalue": "expression cannot contain assignment, perhaps you meant \"==\"? (<ipython-input-17-3fb8f1c53f16>, line 1)",
     "output_type": "error",
     "traceback": [
      "\u001b[1;36m  File \u001b[1;32m\"<ipython-input-17-3fb8f1c53f16>\"\u001b[1;36m, line \u001b[1;32m1\u001b[0m\n\u001b[1;33m    print(t[0]=10) # seharusnya gagal karena immutable\u001b[0m\n\u001b[1;37m          ^\u001b[0m\n\u001b[1;31mSyntaxError\u001b[0m\u001b[1;31m:\u001b[0m expression cannot contain assignment, perhaps you meant \"==\"?\n"
     ]
    }
   ],
   "source": [
    "print(t[0]=10) # seharusnya gagal karena immutable"
   ]
  },
  {
   "cell_type": "code",
   "execution_count": 18,
   "metadata": {},
   "outputs": [
    {
     "name": "stdout",
     "output_type": "stream",
     "text": [
      "{1, 2, 3}\n"
     ]
    }
   ],
   "source": [
    "# Set\n",
    "a = {1,2,2,3,3,3}\n",
    "print(a)"
   ]
  },
  {
   "cell_type": "code",
   "execution_count": 19,
   "metadata": {},
   "outputs": [
    {
     "ename": "TypeError",
     "evalue": "'set' object is not subscriptable",
     "output_type": "error",
     "traceback": [
      "\u001b[1;31m---------------------------------------------------------------------------\u001b[0m",
      "\u001b[1;31mTypeError\u001b[0m                                 Traceback (most recent call last)",
      "\u001b[1;32m<ipython-input-19-770a0e807457>\u001b[0m in \u001b[0;36m<module>\u001b[1;34m\u001b[0m\n\u001b[0;32m      1\u001b[0m \u001b[0ma\u001b[0m \u001b[1;33m=\u001b[0m \u001b[1;33m{\u001b[0m\u001b[1;36m1\u001b[0m\u001b[1;33m,\u001b[0m\u001b[1;36m2\u001b[0m\u001b[1;33m,\u001b[0m\u001b[1;36m3\u001b[0m\u001b[1;33m}\u001b[0m\u001b[1;33m\u001b[0m\u001b[1;33m\u001b[0m\u001b[0m\n\u001b[1;32m----> 2\u001b[1;33m \u001b[0mprint\u001b[0m\u001b[1;33m(\u001b[0m\u001b[0ma\u001b[0m\u001b[1;33m[\u001b[0m\u001b[1;36m1\u001b[0m\u001b[1;33m]\u001b[0m\u001b[1;33m)\u001b[0m \u001b[1;31m# kita tidak bisa mengambil sebagian data / elemen datanya menggunakan proses slicing\u001b[0m\u001b[1;33m\u001b[0m\u001b[1;33m\u001b[0m\u001b[0m\n\u001b[0m",
      "\u001b[1;31mTypeError\u001b[0m: 'set' object is not subscriptable"
     ]
    }
   ],
   "source": [
    "a = {1,2,3}\n",
    "print(a[1]) # kita tidak bisa mengambil sebagian data / elemen datanya menggunakan proses slicing"
   ]
  },
  {
   "cell_type": "code",
   "execution_count": 20,
   "metadata": {},
   "outputs": [
    {
     "name": "stdout",
     "output_type": "stream",
     "text": [
      "<class 'dict'>\n"
     ]
    }
   ],
   "source": [
    "# Dictionary\n",
    "d = {1:'value','key':2}\n",
    "print(type(d))"
   ]
  },
  {
   "cell_type": "code",
   "execution_count": 21,
   "metadata": {},
   "outputs": [
    {
     "name": "stdout",
     "output_type": "stream",
     "text": [
      "<class 'dict'>\n",
      "d[1] =  value\n",
      "d['key'] =  2\n"
     ]
    }
   ],
   "source": [
    "d = {1:'value','key':2}\n",
    "print(type(d))\n",
    "print(\"d[1] = \", d[1]);\n",
    "print(\"d['key'] = \", d['key']);"
   ]
  },
  {
   "cell_type": "code",
   "execution_count": 22,
   "metadata": {},
   "outputs": [
    {
     "name": "stdout",
     "output_type": "stream",
     "text": [
      "<class 'dict'>\n",
      "d[1] =  value\n",
      "d['key'] =  2\n"
     ]
    },
    {
     "ename": "KeyError",
     "evalue": "2",
     "output_type": "error",
     "traceback": [
      "\u001b[1;31m---------------------------------------------------------------------------\u001b[0m",
      "\u001b[1;31mKeyError\u001b[0m                                  Traceback (most recent call last)",
      "\u001b[1;32m<ipython-input-22-a4264979d62a>\u001b[0m in \u001b[0;36m<module>\u001b[1;34m\u001b[0m\n\u001b[0;32m      5\u001b[0m \u001b[1;33m\u001b[0m\u001b[0m\n\u001b[0;32m      6\u001b[0m \u001b[1;31m# Generates error\u001b[0m\u001b[1;33m\u001b[0m\u001b[1;33m\u001b[0m\u001b[1;33m\u001b[0m\u001b[0m\n\u001b[1;32m----> 7\u001b[1;33m \u001b[0mprint\u001b[0m\u001b[1;33m(\u001b[0m\u001b[1;34m\"d[2] = \"\u001b[0m\u001b[1;33m,\u001b[0m \u001b[0md\u001b[0m\u001b[1;33m[\u001b[0m\u001b[1;36m2\u001b[0m\u001b[1;33m]\u001b[0m\u001b[1;33m)\u001b[0m\u001b[1;33m;\u001b[0m \u001b[1;31m# Dictionary bukan termasuk dalam implementasi urutan (sequences), sehingga tidak bisa dipanggil dengan urutan indeks\u001b[0m\u001b[1;33m\u001b[0m\u001b[1;33m\u001b[0m\u001b[0m\n\u001b[0m",
      "\u001b[1;31mKeyError\u001b[0m: 2"
     ]
    }
   ],
   "source": [
    "d = {1:'value','key':2}\n",
    "print(type(d))\n",
    "print(\"d[1] = \", d[1]);\n",
    "print(\"d['key'] = \", d['key']);\n",
    "\n",
    "# Generates error\n",
    "print(\"d[2] = \", d[2]); # Dictionary bukan termasuk dalam implementasi urutan (sequences), sehingga tidak bisa dipanggil dengan urutan indeks"
   ]
  },
  {
   "cell_type": "code",
   "execution_count": 23,
   "metadata": {},
   "outputs": [
    {
     "name": "stdout",
     "output_type": "stream",
     "text": [
      "5.0\n"
     ]
    }
   ],
   "source": [
    "# Konversi (conversion, cast)\n",
    "print(float(5))"
   ]
  },
  {
   "cell_type": "code",
   "execution_count": 24,
   "metadata": {},
   "outputs": [
    {
     "name": "stdout",
     "output_type": "stream",
     "text": [
      "10\n"
     ]
    }
   ],
   "source": [
    "print(int(10.6))"
   ]
  },
  {
   "cell_type": "code",
   "execution_count": 25,
   "metadata": {},
   "outputs": [
    {
     "name": "stdout",
     "output_type": "stream",
     "text": [
      "-10\n"
     ]
    }
   ],
   "source": [
    "print(int(-10.6))"
   ]
  },
  {
   "cell_type": "code",
   "execution_count": 26,
   "metadata": {},
   "outputs": [
    {
     "name": "stdout",
     "output_type": "stream",
     "text": [
      "2.5\n"
     ]
    }
   ],
   "source": [
    "print(float('2.5'))"
   ]
  },
  {
   "cell_type": "code",
   "execution_count": 27,
   "metadata": {},
   "outputs": [
    {
     "name": "stdout",
     "output_type": "stream",
     "text": [
      "25\n"
     ]
    }
   ],
   "source": [
    "print(str(25))"
   ]
  },
  {
   "cell_type": "code",
   "execution_count": 28,
   "metadata": {},
   "outputs": [
    {
     "ename": "ValueError",
     "evalue": "invalid literal for int() with base 10: '1p'",
     "output_type": "error",
     "traceback": [
      "\u001b[1;31m---------------------------------------------------------------------------\u001b[0m",
      "\u001b[1;31mValueError\u001b[0m                                Traceback (most recent call last)",
      "\u001b[1;32m<ipython-input-28-81ba9501c79e>\u001b[0m in \u001b[0;36m<module>\u001b[1;34m\u001b[0m\n\u001b[1;32m----> 1\u001b[1;33m \u001b[0mprint\u001b[0m\u001b[1;33m(\u001b[0m\u001b[0mint\u001b[0m\u001b[1;33m(\u001b[0m\u001b[1;34m'1p'\u001b[0m\u001b[1;33m)\u001b[0m\u001b[1;33m)\u001b[0m\u001b[1;33m\u001b[0m\u001b[1;33m\u001b[0m\u001b[0m\n\u001b[0m",
      "\u001b[1;31mValueError\u001b[0m: invalid literal for int() with base 10: '1p'"
     ]
    }
   ],
   "source": [
    "print(int('1p'))"
   ]
  },
  {
   "cell_type": "code",
   "execution_count": 29,
   "metadata": {},
   "outputs": [
    {
     "name": "stdout",
     "output_type": "stream",
     "text": [
      "{1, 2, 3}\n"
     ]
    }
   ],
   "source": [
    "print(set([1,2,3]))"
   ]
  },
  {
   "cell_type": "code",
   "execution_count": 30,
   "metadata": {},
   "outputs": [
    {
     "name": "stdout",
     "output_type": "stream",
     "text": [
      "(5, 6, 7)\n"
     ]
    }
   ],
   "source": [
    "print(tuple({5,6,7}))"
   ]
  },
  {
   "cell_type": "code",
   "execution_count": 31,
   "metadata": {},
   "outputs": [
    {
     "name": "stdout",
     "output_type": "stream",
     "text": [
      "['h', 'e', 'l', 'l', 'o']\n"
     ]
    }
   ],
   "source": [
    "print(list('hello'))"
   ]
  },
  {
   "cell_type": "code",
   "execution_count": 32,
   "metadata": {},
   "outputs": [
    {
     "name": "stdout",
     "output_type": "stream",
     "text": [
      "{1: 2, 3: 4}\n"
     ]
    }
   ],
   "source": [
    "print(dict([[1,2],[3,4]]))"
   ]
  },
  {
   "cell_type": "code",
   "execution_count": 33,
   "metadata": {},
   "outputs": [
    {
     "name": "stdout",
     "output_type": "stream",
     "text": [
      "{3: 26, 4: 44}\n"
     ]
    }
   ],
   "source": [
    "print(dict([(3,26),(4,44)]))"
   ]
  },
  {
   "cell_type": "markdown",
   "metadata": {},
   "source": [
    "### Input/Output dan Operasi pada Python"
   ]
  },
  {
   "cell_type": "markdown",
   "metadata": {},
   "source": [
    "###### Input/Output pada Python"
   ]
  },
  {
   "cell_type": "code",
   "execution_count": 34,
   "metadata": {},
   "outputs": [
    {
     "name": "stdout",
     "output_type": "stream",
     "text": [
      "Hello, World!\n"
     ]
    }
   ],
   "source": [
    "# Output\n",
    "print(\"Hello, World!\")"
   ]
  },
  {
   "cell_type": "code",
   "execution_count": 35,
   "metadata": {},
   "outputs": [
    {
     "name": "stdout",
     "output_type": "stream",
     "text": [
      "Nilai x adalah 100\n"
     ]
    }
   ],
   "source": [
    "x = 100\n",
    "print('Nilai x adalah', x)"
   ]
  },
  {
   "cell_type": "code",
   "execution_count": 36,
   "metadata": {},
   "outputs": [
    {
     "name": "stdout",
     "output_type": "stream",
     "text": [
      "hai bro\n"
     ]
    }
   ],
   "source": [
    "print('hai {}'.format('bro'))"
   ]
  },
  {
   "cell_type": "code",
   "execution_count": 37,
   "metadata": {},
   "outputs": [
    {
     "name": "stdout",
     "output_type": "stream",
     "text": [
      "Halo, Dicoding!\n"
     ]
    }
   ],
   "source": [
    "nama = \"Dicoding\"\n",
    "print(\"Halo, %s!\" % nama)"
   ]
  },
  {
   "cell_type": "code",
   "execution_count": 38,
   "metadata": {},
   "outputs": [
    {
     "name": "stdout",
     "output_type": "stream",
     "text": [
      "Umur Dicoding adalah 5 tahun.\n"
     ]
    }
   ],
   "source": [
    "nama = \"Dicoding\"\n",
    "umur = 5\n",
    "print(\"Umur %s adalah %d tahun.\" % (nama, umur))"
   ]
  },
  {
   "cell_type": "code",
   "execution_count": 39,
   "metadata": {},
   "outputs": [
    {
     "name": "stdout",
     "output_type": "stream",
     "text": [
      "Angka saya: [7, 9, 11, 13]\n"
     ]
    }
   ],
   "source": [
    "angka = [7, 9, 11, 13] # menambahkan objek selain string (otomatis dikonversi)\n",
    "print(\"Angka saya: %s\" % angka)"
   ]
  },
  {
   "cell_type": "raw",
   "metadata": {},
   "source": [
    "%s - String\n",
    "%d - Integers\n",
    "%f - Bilangan Desimal\n",
    "%.<digit>f - Bilangan desimal dengan sejumlah digit angka dibelakang koma.\n",
    "%x/%X - Bilangan bulat dalam representasi Hexa (huruf kecil/huruf besar)"
   ]
  },
  {
   "cell_type": "code",
   "execution_count": 40,
   "metadata": {},
   "outputs": [
    {
     "name": "stdout",
     "output_type": "stream",
     "text": [
      "a: a and b: B\n"
     ]
    }
   ],
   "source": [
    "a, b = 10, 11\n",
    "a, b\n",
    "print('a: %x and b: %X' % (a, b))"
   ]
  },
  {
   "cell_type": "code",
   "execution_count": 44,
   "metadata": {},
   "outputs": [
    {
     "name": "stdout",
     "output_type": "stream",
     "text": [
      "Masukkan angka : 5\n"
     ]
    }
   ],
   "source": [
    "# Input\n",
    "nilai = input('Masukkan angka : ')"
   ]
  },
  {
   "cell_type": "code",
   "execution_count": 49,
   "metadata": {},
   "outputs": [
    {
     "name": "stdout",
     "output_type": "stream",
     "text": [
      "5\n"
     ]
    }
   ],
   "source": [
    "print(nilai)"
   ]
  },
  {
   "cell_type": "code",
   "execution_count": 50,
   "metadata": {},
   "outputs": [
    {
     "name": "stdout",
     "output_type": "stream",
     "text": [
      "5\n"
     ]
    }
   ],
   "source": [
    "print(int(nilai))"
   ]
  },
  {
   "cell_type": "code",
   "execution_count": 51,
   "metadata": {},
   "outputs": [
    {
     "name": "stdout",
     "output_type": "stream",
     "text": [
      "5.0\n"
     ]
    }
   ],
   "source": [
    "print(float(nilai))"
   ]
  },
  {
   "cell_type": "code",
   "execution_count": 52,
   "metadata": {},
   "outputs": [
    {
     "ename": "ValueError",
     "evalue": "invalid literal for int() with base 10: '90+10'",
     "output_type": "error",
     "traceback": [
      "\u001b[1;31m---------------------------------------------------------------------------\u001b[0m",
      "\u001b[1;31mValueError\u001b[0m                                Traceback (most recent call last)",
      "\u001b[1;32m<ipython-input-52-52c960fe3128>\u001b[0m in \u001b[0;36m<module>\u001b[1;34m\u001b[0m\n\u001b[1;32m----> 1\u001b[1;33m \u001b[0mprint\u001b[0m\u001b[1;33m(\u001b[0m\u001b[0mint\u001b[0m\u001b[1;33m(\u001b[0m\u001b[1;34m'90+10'\u001b[0m\u001b[1;33m)\u001b[0m\u001b[1;33m)\u001b[0m\u001b[1;33m\u001b[0m\u001b[1;33m\u001b[0m\u001b[0m\n\u001b[0m",
      "\u001b[1;31mValueError\u001b[0m: invalid literal for int() with base 10: '90+10'"
     ]
    }
   ],
   "source": [
    "print(int('90+10'))"
   ]
  },
  {
   "cell_type": "code",
   "execution_count": 53,
   "metadata": {},
   "outputs": [
    {
     "name": "stdout",
     "output_type": "stream",
     "text": [
      "100\n"
     ]
    }
   ],
   "source": [
    "print(eval('90+10'))"
   ]
  },
  {
   "cell_type": "code",
   "execution_count": 54,
   "metadata": {},
   "outputs": [
    {
     "ename": "SyntaxError",
     "evalue": "invalid syntax (<ipython-input-54-281f41519c15>, line 2)",
     "output_type": "error",
     "traceback": [
      "\u001b[1;36m  File \u001b[1;32m\"<ipython-input-54-281f41519c15>\"\u001b[1;36m, line \u001b[1;32m2\u001b[0m\n\u001b[1;33m    $ python test.py arg1 arg2 arg3\u001b[0m\n\u001b[1;37m    ^\u001b[0m\n\u001b[1;31mSyntaxError\u001b[0m\u001b[1;31m:\u001b[0m invalid syntax\n"
     ]
    }
   ],
   "source": [
    "# Command-line arguments\n",
    "$ python test.py arg1 arg2 arg3"
   ]
  },
  {
   "cell_type": "code",
   "execution_count": 55,
   "metadata": {},
   "outputs": [],
   "source": [
    "import sys"
   ]
  },
  {
   "cell_type": "code",
   "execution_count": 56,
   "metadata": {},
   "outputs": [
    {
     "name": "stdout",
     "output_type": "stream",
     "text": [
      "Jumlah arguments: 3 arguments.\n",
      "Argument List: ['C:\\\\Users\\\\User\\\\anaconda3\\\\lib\\\\site-packages\\\\ipykernel_launcher.py', '-f', 'C:\\\\Users\\\\User\\\\AppData\\\\Roaming\\\\jupyter\\\\runtime\\\\kernel-22d91a84-f0ae-4b67-afc3-233af31fb393.json']\n",
      "-f\n"
     ]
    }
   ],
   "source": [
    "print('Jumlah arguments:', len(sys.argv), 'arguments.')\n",
    "print('Argument List:', str(sys.argv))\n",
    "print(sys.argv[1])"
   ]
  },
  {
   "cell_type": "markdown",
   "metadata": {},
   "source": [
    "### Dynamic Typing pada Python"
   ]
  },
  {
   "cell_type": "code",
   "execution_count": 57,
   "metadata": {},
   "outputs": [
    {
     "name": "stdout",
     "output_type": "stream",
     "text": [
      "<class 'int'>\n",
      "<class 'str'>\n"
     ]
    }
   ],
   "source": [
    "# Ketika kita memberikan nilai 6 pada variabel x\n",
    "x = 6  \n",
    "print(type(x))\n",
    "# Kemudian Berikan string “hello” pada variabel x di baris selanjutnya\n",
    "x = 'hello'\n",
    "print(type(x))"
   ]
  },
  {
   "cell_type": "code",
   "execution_count": 58,
   "metadata": {},
   "outputs": [],
   "source": [
    "if False:\n",
    "    9 + \"satu\"  # Baris ini tidak dioperasikan, sehingga tidak muncul notifikasi TypeError\n",
    "else:\n",
    "    9 + 1"
   ]
  },
  {
   "cell_type": "code",
   "execution_count": 59,
   "metadata": {},
   "outputs": [
    {
     "name": "stdout",
     "output_type": "stream",
     "text": [
      "<class 'str'>\n"
     ]
    }
   ],
   "source": [
    "contoh = \"Halo, Buchori\"\n",
    "print(type(contoh))"
   ]
  },
  {
   "cell_type": "code",
   "execution_count": 60,
   "metadata": {},
   "outputs": [
    {
     "name": "stdout",
     "output_type": "stream",
     "text": [
      "<class 'float'>\n"
     ]
    }
   ],
   "source": [
    "contoh = 19.7\n",
    "print(type(contoh))"
   ]
  },
  {
   "cell_type": "markdown",
   "metadata": {},
   "source": [
    "### Transformasi Angka, Karakter dan String "
   ]
  },
  {
   "cell_type": "code",
   "execution_count": 61,
   "metadata": {},
   "outputs": [
    {
     "name": "stdout",
     "output_type": "stream",
     "text": [
      "DICODING\n"
     ]
    }
   ],
   "source": [
    "# upper()\n",
    "kata = 'dicoding'\n",
    "kata = kata.upper()\n",
    "print(kata)"
   ]
  },
  {
   "cell_type": "code",
   "execution_count": 62,
   "metadata": {},
   "outputs": [
    {
     "name": "stdout",
     "output_type": "stream",
     "text": [
      "dicoding\n"
     ]
    }
   ],
   "source": [
    "# lower ()\n",
    "kata = 'DICODING'\n",
    "kata = kata.lower()\n",
    "print(kata)"
   ]
  },
  {
   "cell_type": "code",
   "execution_count": 63,
   "metadata": {},
   "outputs": [
    {
     "name": "stdout",
     "output_type": "stream",
     "text": [
      "Dicoding\n"
     ]
    }
   ],
   "source": [
    "# rstrip()\n",
    "print('Dicoding    '.rstrip())"
   ]
  },
  {
   "cell_type": "code",
   "execution_count": 64,
   "metadata": {},
   "outputs": [
    {
     "name": "stdout",
     "output_type": "stream",
     "text": [
      "Dicoding\n"
     ]
    }
   ],
   "source": [
    "# lstrip()\n",
    "print('    Dicoding'.lstrip())"
   ]
  },
  {
   "cell_type": "code",
   "execution_count": 65,
   "metadata": {},
   "outputs": [
    {
     "name": "stdout",
     "output_type": "stream",
     "text": [
      "Dicoding\n"
     ]
    }
   ],
   "source": [
    "# strip()\n",
    "print('    Dicoding    '.strip())"
   ]
  },
  {
   "cell_type": "code",
   "execution_count": 66,
   "metadata": {},
   "outputs": [
    {
     "name": "stdout",
     "output_type": "stream",
     "text": [
      "Dicoding\n"
     ]
    }
   ],
   "source": [
    "kata = 'CodeCodeDicodingCodeCode'\n",
    "print(kata.strip('Code'))"
   ]
  },
  {
   "cell_type": "code",
   "execution_count": 67,
   "metadata": {},
   "outputs": [
    {
     "name": "stdout",
     "output_type": "stream",
     "text": [
      "True\n"
     ]
    }
   ],
   "source": [
    "# startswith()\n",
    "print('Dicoding Indonesia'.startswith('Dicoding'))"
   ]
  },
  {
   "cell_type": "code",
   "execution_count": 68,
   "metadata": {},
   "outputs": [
    {
     "name": "stdout",
     "output_type": "stream",
     "text": [
      "True\n"
     ]
    }
   ],
   "source": [
    "# endswith()\n",
    "print('Dicoding Indonesia'.endswith('Indonesia'))"
   ]
  },
  {
   "cell_type": "code",
   "execution_count": 69,
   "metadata": {},
   "outputs": [
    {
     "name": "stdout",
     "output_type": "stream",
     "text": [
      "Dicoding Indonesia !\n"
     ]
    }
   ],
   "source": [
    "# join()\n",
    "print(' '.join(['Dicoding', 'Indonesia', '!']))"
   ]
  },
  {
   "cell_type": "code",
   "execution_count": 70,
   "metadata": {},
   "outputs": [
    {
     "name": "stdout",
     "output_type": "stream",
     "text": [
      "Dicoding123Indonesia123!\n"
     ]
    }
   ],
   "source": [
    "print('123'.join(['Dicoding', 'Indonesia', '!']))"
   ]
  },
  {
   "cell_type": "code",
   "execution_count": 71,
   "metadata": {},
   "outputs": [
    {
     "name": "stdout",
     "output_type": "stream",
     "text": [
      "['Dicoding', 'Indonesia', '!']\n"
     ]
    }
   ],
   "source": [
    "# split()\n",
    "print('Dicoding Indonesia !'.split())"
   ]
  },
  {
   "cell_type": "code",
   "execution_count": 72,
   "metadata": {},
   "outputs": [
    {
     "name": "stdout",
     "output_type": "stream",
     "text": [
      "['Dicoding', 'Indonesia', '!']\n"
     ]
    }
   ],
   "source": [
    "print('Dicoding123Indonesia123!'.split('123'))"
   ]
  },
  {
   "cell_type": "code",
   "execution_count": 73,
   "metadata": {},
   "outputs": [
    {
     "name": "stdout",
     "output_type": "stream",
     "text": [
      "['Halo,', '    aku ikan,', '    aku suka sekali menyelam', '    aku tinggal di perairan.', '    Badanku licin dan renangku cepat.', '    Senang berkenalan denganmu.']\n"
     ]
    }
   ],
   "source": [
    "print('''Halo,\n",
    "    aku ikan,\n",
    "    aku suka sekali menyelam\n",
    "    aku tinggal di perairan.\n",
    "    Badanku licin dan renangku cepat.\n",
    "    Senang berkenalan denganmu.'''.split('\\n'))"
   ]
  },
  {
   "cell_type": "code",
   "execution_count": 74,
   "metadata": {},
   "outputs": [
    {
     "name": "stdout",
     "output_type": "stream",
     "text": [
      "Ayo belajar Pemrograman di Dicoding\n"
     ]
    }
   ],
   "source": [
    "# replace()\n",
    "string = \"Ayo belajar Coding di Dicoding\"\n",
    "print(string.replace(\"Coding\", \"Pemrograman\"))"
   ]
  },
  {
   "cell_type": "code",
   "execution_count": 75,
   "metadata": {},
   "outputs": [
    {
     "name": "stdout",
     "output_type": "stream",
     "text": [
      "Ayo belajar Pemrograman di Dicoding karena Coding adalah bahasa masa depan\n"
     ]
    }
   ],
   "source": [
    "string = \"Ayo belajar Coding di Dicoding karena Coding adalah bahasa masa depan\"\n",
    "print(string.replace(\"Coding\", \"Pemrograman\", 1))"
   ]
  },
  {
   "cell_type": "code",
   "execution_count": 76,
   "metadata": {},
   "outputs": [
    {
     "data": {
      "text/plain": [
       "True"
      ]
     },
     "execution_count": 76,
     "metadata": {},
     "output_type": "execute_result"
    }
   ],
   "source": [
    "# isupper()\n",
    "kata = 'DICODING'\n",
    "kata.isupper()"
   ]
  },
  {
   "cell_type": "code",
   "execution_count": 77,
   "metadata": {},
   "outputs": [
    {
     "data": {
      "text/plain": [
       "False"
      ]
     },
     "execution_count": 77,
     "metadata": {},
     "output_type": "execute_result"
    }
   ],
   "source": [
    "kata = 'Dicoding'\n",
    "kata.isupper()"
   ]
  },
  {
   "cell_type": "code",
   "execution_count": 78,
   "metadata": {},
   "outputs": [
    {
     "data": {
      "text/plain": [
       "True"
      ]
     },
     "execution_count": 78,
     "metadata": {},
     "output_type": "execute_result"
    }
   ],
   "source": [
    "# islower()\n",
    "kata = 'dicoding'\n",
    "kata.islower()"
   ]
  },
  {
   "cell_type": "code",
   "execution_count": 79,
   "metadata": {},
   "outputs": [
    {
     "data": {
      "text/plain": [
       "False"
      ]
     },
     "execution_count": 79,
     "metadata": {},
     "output_type": "execute_result"
    }
   ],
   "source": [
    "kata = 'Dicoding'\n",
    "kata.islower()"
   ]
  },
  {
   "cell_type": "code",
   "execution_count": 80,
   "metadata": {},
   "outputs": [
    {
     "name": "stdout",
     "output_type": "stream",
     "text": [
      "dicoding\n",
      "DICODING\n",
      "True\n",
      "False\n"
     ]
    }
   ],
   "source": [
    "print('Dicoding'.upper().lower())\n",
    "print('Dicoding'.lower().upper())\n",
    "print('DICODING'.upper().lower().islower())\n",
    "print('DICODING'.upper().lower().isupper())"
   ]
  },
  {
   "cell_type": "code",
   "execution_count": 81,
   "metadata": {},
   "outputs": [
    {
     "data": {
      "text/plain": [
       "True"
      ]
     },
     "execution_count": 81,
     "metadata": {},
     "output_type": "execute_result"
    }
   ],
   "source": [
    "# isalpha()\n",
    "'dicoding'.isalpha()"
   ]
  },
  {
   "cell_type": "code",
   "execution_count": 82,
   "metadata": {},
   "outputs": [
    {
     "data": {
      "text/plain": [
       "True"
      ]
     },
     "execution_count": 82,
     "metadata": {},
     "output_type": "execute_result"
    }
   ],
   "source": [
    "# isalnum() \n",
    "'dicoding123'.isalnum()"
   ]
  },
  {
   "cell_type": "code",
   "execution_count": 83,
   "metadata": {},
   "outputs": [
    {
     "data": {
      "text/plain": [
       "True"
      ]
     },
     "execution_count": 83,
     "metadata": {},
     "output_type": "execute_result"
    }
   ],
   "source": [
    "# isdecimal()\n",
    "'12345'.isdecimal()"
   ]
  },
  {
   "cell_type": "code",
   "execution_count": 84,
   "metadata": {},
   "outputs": [
    {
     "data": {
      "text/plain": [
       "True"
      ]
     },
     "execution_count": 84,
     "metadata": {},
     "output_type": "execute_result"
    }
   ],
   "source": [
    "# isspace()\n",
    "'     '.isspace()"
   ]
  },
  {
   "cell_type": "code",
   "execution_count": 85,
   "metadata": {},
   "outputs": [
    {
     "data": {
      "text/plain": [
       "True"
      ]
     },
     "execution_count": 85,
     "metadata": {},
     "output_type": "execute_result"
    }
   ],
   "source": [
    "# istitle()\n",
    "'Dicoding Indonesia'.istitle()"
   ]
  },
  {
   "cell_type": "code",
   "execution_count": 86,
   "metadata": {},
   "outputs": [
    {
     "name": "stdout",
     "output_type": "stream",
     "text": [
      "Masukkan nama Anda:\n",
      "dito\n",
      "Halo dito\n"
     ]
    }
   ],
   "source": [
    "while True:\n",
    "    print('Masukkan nama Anda:')\n",
    "    name = input()\n",
    "    if name.isalpha():\n",
    "        print(\"Halo\", name)\n",
    "        break\n",
    "    print('Masukkan nama Anda dengan benar.')"
   ]
  },
  {
   "cell_type": "code",
   "execution_count": 89,
   "metadata": {},
   "outputs": [
    {
     "name": "stdout",
     "output_type": "stream",
     "text": [
      "00005\n",
      "00300\n",
      "-0.45\n",
      "-000.45\n"
     ]
    }
   ],
   "source": [
    "# Penerapan zfill pada Angka\n",
    "\n",
    "# Contoh 1: Penggunaan zfill 5 pada angka satuan\n",
    "angka = 5\n",
    "print (str(angka).zfill(5));\n",
    "# Contoh 2: Penggunaan zfill 5 pada angka ratusan\n",
    "angka = 300\n",
    "print (str(angka).zfill(5));\n",
    "# Contoh 3: Penggunaan zfill 5 pada angka desimal negatif (memiliki koma)\n",
    "angka = -0.45\n",
    "print (str(angka).zfill(5));\n",
    "# Contoh 4: Penggunaan zfill 7 pada angka desimal negatif (memiliki koma)\n",
    "angka = -0.45\n",
    "print (str(angka).zfill(7));"
   ]
  },
  {
   "cell_type": "code",
   "execution_count": 90,
   "metadata": {},
   "outputs": [
    {
     "name": "stdout",
     "output_type": "stream",
     "text": [
      "00aku\n",
      "0kamu\n",
      "dirinya\n"
     ]
    }
   ],
   "source": [
    "# Penerapan zfill pada String\n",
    "\n",
    "# Contoh 1\n",
    "kata = 'aku'\n",
    "print (kata.zfill(5));\n",
    "# Contoh 2\n",
    "kata = 'kamu'\n",
    "print (kata.zfill(5));\n",
    "# Contoh 3\n",
    "kata = 'dirinya'\n",
    "print (kata.zfill(5));"
   ]
  },
  {
   "cell_type": "code",
   "execution_count": 91,
   "metadata": {},
   "outputs": [
    {
     "data": {
      "text/plain": [
       "'            Dicoding'"
      ]
     },
     "execution_count": 91,
     "metadata": {},
     "output_type": "execute_result"
    }
   ],
   "source": [
    "# rjust()\n",
    "'Dicoding'.rjust(20)"
   ]
  },
  {
   "cell_type": "code",
   "execution_count": 92,
   "metadata": {},
   "outputs": [
    {
     "data": {
      "text/plain": [
       "'Dicoding            '"
      ]
     },
     "execution_count": 92,
     "metadata": {},
     "output_type": "execute_result"
    }
   ],
   "source": [
    "# ljust()\n",
    "'Dicoding'.ljust(20)"
   ]
  },
  {
   "cell_type": "code",
   "execution_count": 93,
   "metadata": {},
   "outputs": [
    {
     "data": {
      "text/plain": [
       "'Dicoding!!!!!!!!!!!!'"
      ]
     },
     "execution_count": 93,
     "metadata": {},
     "output_type": "execute_result"
    }
   ],
   "source": [
    "'Dicoding'.ljust(20, '!')"
   ]
  },
  {
   "cell_type": "code",
   "execution_count": 94,
   "metadata": {},
   "outputs": [
    {
     "data": {
      "text/plain": [
       "'      Dicoding      '"
      ]
     },
     "execution_count": 94,
     "metadata": {},
     "output_type": "execute_result"
    }
   ],
   "source": [
    "# center()\n",
    "'Dicoding'.center(20)"
   ]
  },
  {
   "cell_type": "code",
   "execution_count": 95,
   "metadata": {},
   "outputs": [
    {
     "data": {
      "text/plain": [
       "'------Dicoding------'"
      ]
     },
     "execution_count": 95,
     "metadata": {},
     "output_type": "execute_result"
    }
   ],
   "source": [
    "'Dicoding'.center(20, '-')"
   ]
  },
  {
   "cell_type": "code",
   "execution_count": 96,
   "metadata": {},
   "outputs": [
    {
     "ename": "SyntaxError",
     "evalue": "invalid character in identifier (<ipython-input-96-d986ea90bfcd>, line 2)",
     "output_type": "error",
     "traceback": [
      "\u001b[1;36m  File \u001b[1;32m\"<ipython-input-96-d986ea90bfcd>\"\u001b[1;36m, line \u001b[1;32m2\u001b[0m\n\u001b[1;33m    st1 = ‘Jum’at’\u001b[0m\n\u001b[1;37m                 ^\u001b[0m\n\u001b[1;31mSyntaxError\u001b[0m\u001b[1;31m:\u001b[0m invalid character in identifier\n"
     ]
    }
   ],
   "source": [
    "# String Literals\n",
    "st1 = ‘Jum’at’"
   ]
  },
  {
   "cell_type": "code",
   "execution_count": 97,
   "metadata": {},
   "outputs": [],
   "source": [
    "st1 = \"Jum’at\""
   ]
  },
  {
   "cell_type": "code",
   "execution_count": 98,
   "metadata": {},
   "outputs": [],
   "source": [
    "st1 = 'Jum\\'at'"
   ]
  },
  {
   "cell_type": "code",
   "execution_count": 99,
   "metadata": {},
   "outputs": [
    {
     "name": "stdout",
     "output_type": "stream",
     "text": [
      "Halo!\n",
      "Kapan terakhir kali kita bertemu?\n",
      "Kita bertemu hari Jum'at yang lalu.\n"
     ]
    }
   ],
   "source": [
    "print(\"Halo!\\nKapan terakhir kali kita bertemu?\\nKita bertemu hari Jum\\'at yang lalu.\")"
   ]
  },
  {
   "cell_type": "code",
   "execution_count": 100,
   "metadata": {},
   "outputs": [
    {
     "name": "stdout",
     "output_type": "stream",
     "text": [
      "Dicoding\\tIndonesia\n"
     ]
    }
   ],
   "source": [
    "# Raw Strings\n",
    "print(r'Dicoding\\tIndonesia')"
   ]
  },
  {
   "cell_type": "markdown",
   "metadata": {},
   "source": [
    "### Operasi pada List, Set, dan String"
   ]
  },
  {
   "cell_type": "code",
   "execution_count": 101,
   "metadata": {},
   "outputs": [
    {
     "name": "stdout",
     "output_type": "stream",
     "text": [
      "[1, 3, 3, 5, 5, 5, 7, 7, 9]\n",
      "9\n"
     ]
    }
   ],
   "source": [
    "# len()\n",
    "contoh_list = [1, 3, 3, 5, 5, 5, 7, 7, 9]\n",
    "print(contoh_list)\n",
    "print(len(contoh_list))"
   ]
  },
  {
   "cell_type": "code",
   "execution_count": 102,
   "metadata": {},
   "outputs": [
    {
     "name": "stdout",
     "output_type": "stream",
     "text": [
      "{1, 3, 5, 7, 9}\n",
      "5\n"
     ]
    }
   ],
   "source": [
    "contoh_set = set([1, 3, 3, 5, 5, 5, 7, 7, 9])\n",
    "print(contoh_set)\n",
    "print(len(contoh_set))"
   ]
  },
  {
   "cell_type": "code",
   "execution_count": 103,
   "metadata": {},
   "outputs": [
    {
     "name": "stdout",
     "output_type": "stream",
     "text": [
      "Belajar Python\n",
      "14\n"
     ]
    }
   ],
   "source": [
    "contoh_string = \"Belajar Python\"\n",
    "print(contoh_string)\n",
    "print(len(contoh_string))"
   ]
  },
  {
   "cell_type": "code",
   "execution_count": 104,
   "metadata": {},
   "outputs": [
    {
     "name": "stdout",
     "output_type": "stream",
     "text": [
      "5\n",
      "96\n"
     ]
    }
   ],
   "source": [
    "# min() dan max()\n",
    "angka = [13, 7, 24, 5, 96, 84, 71, 11, 38]\n",
    "print(min(angka))\n",
    "print(max(angka))"
   ]
  },
  {
   "cell_type": "code",
   "execution_count": 105,
   "metadata": {},
   "outputs": [
    {
     "name": "stdout",
     "output_type": "stream",
     "text": [
      "3\n",
      "6\n"
     ]
    }
   ],
   "source": [
    "# Count\n",
    "genap = [2, 4, 4, 6, 6, 6, 8, 10, 10]\n",
    "print(genap.count(6))\n",
    "string = \"Belajar Python di Dicoding sangat menyenangkan\"\n",
    "substring = \"a\"\n",
    "print(string.count(substring))"
   ]
  },
  {
   "cell_type": "code",
   "execution_count": 106,
   "metadata": {},
   "outputs": [
    {
     "name": "stdout",
     "output_type": "stream",
     "text": [
      "[2, 4, 6, 8, 'P', 'Y', 'T', 'H', 'O', 'N']\n"
     ]
    }
   ],
   "source": [
    "# Penggabungan dan Replikasi\n",
    "angka = [2, 4, 6, 8]\n",
    "huruf = ['P', 'Y', 'T', 'H', 'O', 'N']\n",
    "gabung = angka + huruf\n",
    "print(gabung)"
   ]
  },
  {
   "cell_type": "code",
   "execution_count": 107,
   "metadata": {},
   "outputs": [
    {
     "name": "stdout",
     "output_type": "stream",
     "text": [
      "['P', 'Y', 'T', 'H', 'O', 'N', 'P', 'Y', 'T', 'H', 'O', 'N']\n"
     ]
    }
   ],
   "source": [
    "learn = ['P', 'Y', 'T', 'H', 'O', 'N']\n",
    "replikasi = learn * 2\n",
    "print(replikasi)"
   ]
  },
  {
   "cell_type": "code",
   "execution_count": 108,
   "metadata": {},
   "outputs": [
    {
     "name": "stdout",
     "output_type": "stream",
     "text": [
      "7\n",
      "[7, 7, 7, 7, 7, 7, 7]\n"
     ]
    }
   ],
   "source": [
    "tujuh = [7]*7\n",
    "print(len(tujuh))\n",
    "print(tujuh)"
   ]
  },
  {
   "cell_type": "code",
   "execution_count": 109,
   "metadata": {},
   "outputs": [
    {
     "name": "stdout",
     "output_type": "stream",
     "text": [
      "0\n",
      "1\n",
      "2\n",
      "3\n",
      "4\n"
     ]
    }
   ],
   "source": [
    "# Range\n",
    "for i in range(5):\n",
    "     print(i)"
   ]
  },
  {
   "cell_type": "code",
   "execution_count": 110,
   "metadata": {},
   "outputs": [
    {
     "name": "stdout",
     "output_type": "stream",
     "text": [
      "1\n",
      "2\n",
      "3\n",
      "4\n",
      "5\n",
      "6\n",
      "7\n",
      "8\n",
      "9\n",
      "10\n"
     ]
    }
   ],
   "source": [
    "for i in range(1, 11):\n",
    "     print(i)"
   ]
  },
  {
   "cell_type": "code",
   "execution_count": 111,
   "metadata": {},
   "outputs": [
    {
     "name": "stdout",
     "output_type": "stream",
     "text": [
      "[0, 5, 10, 15]\n"
     ]
    }
   ],
   "source": [
    "print([_ for _ in range(0,20,5)])"
   ]
  },
  {
   "cell_type": "code",
   "execution_count": 112,
   "metadata": {},
   "outputs": [
    {
     "name": "stdout",
     "output_type": "stream",
     "text": [
      "True\n",
      "False\n",
      "False\n",
      "True\n"
     ]
    }
   ],
   "source": [
    "# in dan not in\n",
    "kalimat = \"Belajar Python di Dicoding sangat menyenangkan\"\n",
    "print('Dicoding' in kalimat)\n",
    "print('tidak' in kalimat)\n",
    "print('Dicoding' not in kalimat)\n",
    "print('tidak' not in kalimat)"
   ]
  },
  {
   "cell_type": "code",
   "execution_count": 113,
   "metadata": {},
   "outputs": [],
   "source": [
    "# Memberikan nilai untuk multiple variable\n",
    "data = ['shirt', 'white', 'L']\n",
    "apparel = data[0]\n",
    "color = data[1]\n",
    "size = data[2]"
   ]
  },
  {
   "cell_type": "code",
   "execution_count": 114,
   "metadata": {},
   "outputs": [],
   "source": [
    "data = ['shirt', 'white', 'L'] # From List\n",
    "apparel, color, size = data\n",
    "data = ('shirt', 'white', 'L')  # From Tuple\n",
    "apparel, color, size = data"
   ]
  },
  {
   "cell_type": "code",
   "execution_count": 115,
   "metadata": {},
   "outputs": [
    {
     "ename": "ValueError",
     "evalue": "not enough values to unpack (expected 4, got 3)",
     "output_type": "error",
     "traceback": [
      "\u001b[1;31m---------------------------------------------------------------------------\u001b[0m",
      "\u001b[1;31mValueError\u001b[0m                                Traceback (most recent call last)",
      "\u001b[1;32m<ipython-input-115-74762ab69186>\u001b[0m in \u001b[0;36m<module>\u001b[1;34m\u001b[0m\n\u001b[0;32m      1\u001b[0m \u001b[0mlidata\u001b[0m \u001b[1;33m=\u001b[0m \u001b[1;33m[\u001b[0m\u001b[1;34m'shirt'\u001b[0m\u001b[1;33m,\u001b[0m \u001b[1;34m'white'\u001b[0m\u001b[1;33m,\u001b[0m \u001b[1;34m'L'\u001b[0m\u001b[1;33m]\u001b[0m \u001b[1;31m# From List\u001b[0m\u001b[1;33m\u001b[0m\u001b[1;33m\u001b[0m\u001b[0m\n\u001b[1;32m----> 2\u001b[1;33m \u001b[0mapparel\u001b[0m\u001b[1;33m,\u001b[0m \u001b[0mcolor\u001b[0m\u001b[1;33m,\u001b[0m \u001b[0msize\u001b[0m\u001b[1;33m,\u001b[0m \u001b[0mprice\u001b[0m \u001b[1;33m=\u001b[0m \u001b[0mdata\u001b[0m\u001b[1;33m\u001b[0m\u001b[1;33m\u001b[0m\u001b[0m\n\u001b[0m",
      "\u001b[1;31mValueError\u001b[0m: not enough values to unpack (expected 4, got 3)"
     ]
    }
   ],
   "source": [
    "lidata = ['shirt', 'white', 'L'] # From List\n",
    "apparel, color, size, price = data"
   ]
  },
  {
   "cell_type": "code",
   "execution_count": 116,
   "metadata": {},
   "outputs": [
    {
     "name": "stdout",
     "output_type": "stream",
     "text": [
      "white\n",
      "shirt\n"
     ]
    }
   ],
   "source": [
    "apparel, color = 'shirt', 'white'\n",
    "apparel, color = color, apparel\n",
    "print(apparel)\n",
    "print(color)"
   ]
  },
  {
   "cell_type": "code",
   "execution_count": 117,
   "metadata": {},
   "outputs": [
    {
     "name": "stdout",
     "output_type": "stream",
     "text": [
      "[5, 100, 200, 500, 1000]\n"
     ]
    }
   ],
   "source": [
    "# Sort\n",
    "angka = [100, 1000, 500, 200, 5]\n",
    "angka.sort()\n",
    "print(angka)"
   ]
  },
  {
   "cell_type": "code",
   "execution_count": 118,
   "metadata": {},
   "outputs": [
    {
     "name": "stdout",
     "output_type": "stream",
     "text": [
      "['helikopter', 'mobil', 'motor', 'pesawat']\n"
     ]
    }
   ],
   "source": [
    "kendaraan = ['motor', 'mobil', 'helikopter', 'pesawat']\n",
    "kendaraan.sort()\n",
    "print(kendaraan)"
   ]
  },
  {
   "cell_type": "code",
   "execution_count": 119,
   "metadata": {},
   "outputs": [
    {
     "name": "stdout",
     "output_type": "stream",
     "text": [
      "['pesawat', 'motor', 'mobil', 'helikopter']\n"
     ]
    }
   ],
   "source": [
    "kendaraan = ['motor', 'mobil', 'helikopter', 'pesawat']\n",
    "kendaraan.sort(reverse=True)\n",
    "print(kendaraan)"
   ]
  },
  {
   "cell_type": "code",
   "execution_count": 120,
   "metadata": {},
   "outputs": [
    {
     "ename": "TypeError",
     "evalue": "'<' not supported between instances of 'int' and 'str'",
     "output_type": "error",
     "traceback": [
      "\u001b[1;31m---------------------------------------------------------------------------\u001b[0m",
      "\u001b[1;31mTypeError\u001b[0m                                 Traceback (most recent call last)",
      "\u001b[1;32m<ipython-input-120-6165e3752e24>\u001b[0m in \u001b[0;36m<module>\u001b[1;34m\u001b[0m\n\u001b[0;32m      1\u001b[0m \u001b[0murutan\u001b[0m \u001b[1;33m=\u001b[0m \u001b[1;33m[\u001b[0m\u001b[1;34m'Dicoding'\u001b[0m\u001b[1;33m,\u001b[0m \u001b[1;36m1\u001b[0m\u001b[1;33m,\u001b[0m \u001b[1;36m2\u001b[0m\u001b[1;33m,\u001b[0m \u001b[1;34m'Indonesia'\u001b[0m\u001b[1;33m,\u001b[0m \u001b[1;36m3\u001b[0m\u001b[1;33m]\u001b[0m\u001b[1;33m\u001b[0m\u001b[1;33m\u001b[0m\u001b[0m\n\u001b[1;32m----> 2\u001b[1;33m \u001b[0murutan\u001b[0m\u001b[1;33m.\u001b[0m\u001b[0msort\u001b[0m\u001b[1;33m(\u001b[0m\u001b[1;33m)\u001b[0m\u001b[1;33m\u001b[0m\u001b[1;33m\u001b[0m\u001b[0m\n\u001b[0m\u001b[0;32m      3\u001b[0m \u001b[0mprint\u001b[0m\u001b[1;33m(\u001b[0m\u001b[0murutan\u001b[0m\u001b[1;33m)\u001b[0m\u001b[1;33m\u001b[0m\u001b[1;33m\u001b[0m\u001b[0m\n",
      "\u001b[1;31mTypeError\u001b[0m: '<' not supported between instances of 'int' and 'str'"
     ]
    }
   ],
   "source": [
    "urutan = ['Dicoding', 1, 2, 'Indonesia', 3]\n",
    "urutan.sort()\n",
    "print(urutan)"
   ]
  },
  {
   "cell_type": "code",
   "execution_count": 121,
   "metadata": {},
   "outputs": [
    {
     "name": "stdout",
     "output_type": "stream",
     "text": [
      "['Pesawat', 'helikopter', 'mobil', 'motor']\n"
     ]
    }
   ],
   "source": [
    "kendaraan = ['motor', 'mobil', 'helikopter', 'Pesawat']\n",
    "kendaraan.sort()\n",
    "print(kendaraan)"
   ]
  },
  {
   "cell_type": "code",
   "execution_count": 122,
   "metadata": {},
   "outputs": [
    {
     "name": "stdout",
     "output_type": "stream",
     "text": [
      "['helikopter', 'Mobil', 'Motor', 'pesawat']\n"
     ]
    }
   ],
   "source": [
    "kendaraan = ['Motor', 'Mobil', 'helikopter', 'pesawat']\n",
    "kendaraan.sort(key=str.lower)\n",
    "print(kendaraan)"
   ]
  },
  {
   "cell_type": "markdown",
   "metadata": {},
   "source": [
    "###### Operator, Operands, dan Expressions"
   ]
  },
  {
   "cell_type": "code",
   "execution_count": 123,
   "metadata": {},
   "outputs": [
    {
     "name": "stdout",
     "output_type": "stream",
     "text": [
      "5\n"
     ]
    }
   ],
   "source": [
    "print(2 + 3)"
   ]
  },
  {
   "cell_type": "code",
   "execution_count": 124,
   "metadata": {},
   "outputs": [
    {
     "name": "stdout",
     "output_type": "stream",
     "text": [
      "15\n"
     ]
    }
   ],
   "source": [
    "print(3 * 5)"
   ]
  },
  {
   "cell_type": "code",
   "execution_count": 125,
   "metadata": {},
   "outputs": [
    {
     "name": "stdout",
     "output_type": "stream",
     "text": [
      "Kelereng Hijau = 5\n",
      "Kelereng Kuning = 10\n",
      "lt(hijau, kuning): True\n",
      "le(hijau, kuning): True\n",
      "eq(hijau, kuning): False\n",
      "ne(hijau, kuning): True\n",
      "ge(hijau, kuning): False\n",
      "gt(hijau, kuning): False\n"
     ]
    }
   ],
   "source": [
    "# Penggunaan le, lt, gt, ge, eq, ne\n",
    "from operator import *\n",
    "hijau = 5\n",
    "kuning = 10\n",
    "print('Kelereng Hijau = {}'.format(hijau))\n",
    "print('Kelereng Kuning = {}'.format(kuning))\n",
    "for func in (lt, le, eq, ne, ge, gt):\n",
    "    print('{}(hijau, kuning): {}'.format(func.__name__, func(hijau, kuning)))"
   ]
  },
  {
   "cell_type": "markdown",
   "metadata": {},
   "source": [
    "### Control Flow"
   ]
  },
  {
   "cell_type": "markdown",
   "metadata": {},
   "source": [
    "###### Percabangan dan Ternary Operators"
   ]
  },
  {
   "cell_type": "code",
   "execution_count": 126,
   "metadata": {},
   "outputs": [
    {
     "name": "stdout",
     "output_type": "stream",
     "text": [
      "Cetak ini jika benar\n",
      "10\n"
     ]
    }
   ],
   "source": [
    "# if\n",
    "kelerengku = 10\n",
    "if kelerengku:\n",
    "    print (\"Cetak ini jika benar\")\n",
    "    print (kelerengku)"
   ]
  },
  {
   "cell_type": "code",
   "execution_count": 127,
   "metadata": {},
   "outputs": [
    {
     "name": "stdout",
     "output_type": "stream",
     "text": [
      "Masukkan tinggi badan Anda : 190\n",
      "Silakan, Anda boleh masuk\n"
     ]
    }
   ],
   "source": [
    "# else\n",
    "tinggi_badan = int(input(\"Masukkan tinggi badan Anda : \"))\n",
    "if tinggi_badan>=160:\n",
    "    print (\"Silakan, Anda boleh masuk\")\n",
    "else:\n",
    "    print (\"Maaf, Anda belum boleh masuk\")"
   ]
  },
  {
   "cell_type": "code",
   "execution_count": 128,
   "metadata": {},
   "outputs": [
    {
     "name": "stdout",
     "output_type": "stream",
     "text": [
      "Bilangan 4 adalah genap\n"
     ]
    }
   ],
   "source": [
    "bilangan = 4\n",
    "if bilangan % 2 == 0:\n",
    "    print('Bilangan {} adalah genap'.format(bilangan))\n",
    "else:\n",
    "    print('Bilangan {} adalah ganjil'.format(bilangan))"
   ]
  },
  {
   "cell_type": "code",
   "execution_count": 129,
   "metadata": {},
   "outputs": [
    {
     "name": "stdout",
     "output_type": "stream",
     "text": [
      "Masukkan nilai tugas Anda : 190\n",
      "Selamat! Anda mendapat nilai A\n",
      "Pertahankan!\n"
     ]
    }
   ],
   "source": [
    "# Elif\n",
    "nilai = int(input(\"Masukkan nilai tugas Anda : \"))\n",
    "if nilai>80:\n",
    "    print(\"Selamat! Anda mendapat nilai A\")\n",
    "    print(\"Pertahankan!\")\n",
    "elif nilai>70:\n",
    "    print(\"Hore! Anda mendapat nilai B\")\n",
    "    print(\"Tingkatkan!\")\n",
    "elif nilai>60:\n",
    "    print(\"Hmm.. Anda mendapat nilai C\")\n",
    "    print(\"Ayo semangat!\")\n",
    "else:\n",
    "    print(\"Waduh, Anda mendapat nilai D\")\n",
    "    print(\"Yuk belajar lebih giat lagi!\")"
   ]
  },
  {
   "cell_type": "code",
   "execution_count": 131,
   "metadata": {},
   "outputs": [
    {
     "name": "stdout",
     "output_type": "stream",
     "text": [
      "Bilangan -3 adalah negatif\n"
     ]
    }
   ],
   "source": [
    "bilangan = -3\n",
    "if bilangan > 0:\n",
    "    print('Bilangan {} adalah positif'.format(bilangan))\n",
    "elif bilangan < 0:\n",
    "    print('Bilangan {} adalah negatif'.format(bilangan))\n",
    "else:\n",
    "    print('Bilangan {} adalah nol'.format(bilangan))"
   ]
  },
  {
   "cell_type": "code",
   "execution_count": 132,
   "metadata": {},
   "outputs": [
    {
     "name": "stdout",
     "output_type": "stream",
     "text": [
      "Tidak ada data\n"
     ]
    }
   ],
   "source": [
    "# ShortHand Ternary\n",
    "hasil = None\n",
    "pesan = hasil or \"Tidak ada data\"\n",
    "print(pesan)"
   ]
  },
  {
   "cell_type": "markdown",
   "metadata": {},
   "source": [
    "###### Perulangan"
   ]
  },
  {
   "cell_type": "code",
   "execution_count": 133,
   "metadata": {},
   "outputs": [
    {
     "name": "stdout",
     "output_type": "stream",
     "text": [
      "Huruf: D\n",
      "Huruf: i\n",
      "Huruf: c\n",
      "Huruf: o\n",
      "Huruf: d\n",
      "Huruf: i\n",
      "Huruf: n\n",
      "Huruf: g\n",
      "Flower: mawar\n",
      "Flower: melati\n",
      "Flower: anggrek\n"
     ]
    }
   ],
   "source": [
    "# For\n",
    "for huruf in 'Dicoding':  # Contoh pertama\n",
    "    print('Huruf: {}'.format(huruf))\n",
    "     \n",
    "flowers = ['mawar', 'melati', 'anggrek']\n",
    "for flower in flowers:  # Contoh kedua\n",
    "    print('Flower: {}'.format(flower))"
   ]
  },
  {
   "cell_type": "code",
   "execution_count": 134,
   "metadata": {},
   "outputs": [
    {
     "name": "stdout",
     "output_type": "stream",
     "text": [
      "Flowers: mawar\n",
      "Flowers: melati\n",
      "Flowers: anggrek\n"
     ]
    }
   ],
   "source": [
    "flowers = ['mawar', 'melati', 'anggrek']\n",
    "for index in range(len(flowers)):\n",
    "    print('Flowers: {}'.format(flowers[index]))"
   ]
  },
  {
   "cell_type": "code",
   "execution_count": 135,
   "metadata": {},
   "outputs": [
    {
     "name": "stdout",
     "output_type": "stream",
     "text": [
      "Hitungannya adalah: 0\n",
      "Hitungannya adalah: 1\n",
      "Hitungannya adalah: 2\n",
      "Hitungannya adalah: 3\n",
      "Hitungannya adalah: 4\n",
      "Hitungannya adalah: 5\n",
      "Hitungannya adalah: 6\n"
     ]
    }
   ],
   "source": [
    "# While\n",
    "count = 0\n",
    "while (count < 7):\n",
    "    print('Hitungannya adalah: {}'.format(count))\n",
    "    count = count + 1"
   ]
  },
  {
   "cell_type": "code",
   "execution_count": 136,
   "metadata": {},
   "outputs": [],
   "source": [
    "# var = 1\n",
    "# while var == 1:  # This constructs an infinite loop\n",
    "#     num = input('Masukkan angka: ')\n",
    "#     print('Anda memasukkan angka: {}'.format(num))\n",
    "     \n",
    "# while True:  # This constructs an infinite loop\n",
    "#     num = input('Masukkan angka: ')\n",
    "#     print('Anda memasukkan angka: {}'.format(num))"
   ]
  },
  {
   "cell_type": "code",
   "execution_count": 138,
   "metadata": {},
   "outputs": [
    {
     "name": "stdout",
     "output_type": "stream",
     "text": [
      "******\n",
      "*****\n",
      "****\n",
      "***\n",
      "**\n",
      "*\n"
     ]
    }
   ],
   "source": [
    "# Perulangan Bertingkat\n",
    "for i in range(0, 6):\n",
    "    for j in range(0, 6 - i):\n",
    "        print('*', end='')\n",
    "    print()"
   ]
  },
  {
   "cell_type": "markdown",
   "metadata": {},
   "source": [
    "###### Kontrol Perulangan"
   ]
  },
  {
   "cell_type": "code",
   "execution_count": 139,
   "metadata": {},
   "outputs": [
    {
     "name": "stdout",
     "output_type": "stream",
     "text": [
      "Huruf saat ini: D\n",
      "Huruf saat ini: i\n",
      "Huruf saat ini: c\n",
      "Huruf saat ini: o\n"
     ]
    }
   ],
   "source": [
    "# Break\n",
    "for huruf in 'Dico ding':\n",
    "    if huruf == ' ':\n",
    "        break\n",
    "    print('Huruf saat ini: {}'.format(huruf))"
   ]
  },
  {
   "cell_type": "code",
   "execution_count": 140,
   "metadata": {},
   "outputs": [
    {
     "name": "stdout",
     "output_type": "stream",
     "text": [
      "*\n",
      "**\n",
      "***\n",
      "****\n",
      "*****\n",
      "******\n",
      "*******\n",
      "********\n",
      "*********\n",
      "**********"
     ]
    }
   ],
   "source": [
    "for i in range (0,10):\n",
    "    for j in range (0,10):\n",
    "        if j>i:\n",
    "            print()\n",
    "            break\n",
    "        else:\n",
    "            print(\"*\",end=\"\")"
   ]
  },
  {
   "cell_type": "code",
   "execution_count": 141,
   "metadata": {},
   "outputs": [
    {
     "name": "stdout",
     "output_type": "stream",
     "text": [
      "Huruf saat ini: D\n",
      "Huruf saat ini: i\n",
      "Huruf saat ini: c\n",
      "Huruf saat ini: o\n",
      "Huruf saat ini: d\n",
      "Huruf saat ini: i\n",
      "Huruf saat ini: n\n",
      "Huruf saat ini: g\n"
     ]
    }
   ],
   "source": [
    "# Continue\n",
    "for huruf in 'Dico ding':\n",
    "    if huruf == ' ':\n",
    "        continue\n",
    "    print('Huruf saat ini: {}'.format(huruf))"
   ]
  },
  {
   "cell_type": "code",
   "execution_count": 142,
   "metadata": {},
   "outputs": [
    {
     "name": "stdout",
     "output_type": "stream",
     "text": [
      "*\n",
      "**\n",
      "***\n",
      "****\n",
      "*****\n",
      "******\n",
      "*******\n",
      "********\n",
      "*********\n",
      "**********\n"
     ]
    }
   ],
   "source": [
    "jumlahbaris = 10\n",
    "baris = 0\n",
    "bintang = 0\n",
    "while baris < jumlahbaris:\n",
    "    if (bintang) >= (baris+1):\n",
    "        print()\n",
    "        baris = baris+1\n",
    "        bintang=0\n",
    "        continue      ##saat masuk ke if, maka bagian print * diluar if tidak akan dijalankan, langsung ulang ke while\n",
    "    print(\"*\",end=\"\")\n",
    "    bintang= bintang+1"
   ]
  },
  {
   "cell_type": "code",
   "execution_count": 152,
   "metadata": {},
   "outputs": [
    {
     "name": "stdout",
     "output_type": "stream",
     "text": [
      "4 equals 2 * 2.0\n",
      "6 equals 2 * 3.0\n",
      "8 equals 2 * 4.0\n",
      "9 equals 3 * 3.0\n"
     ]
    }
   ],
   "source": [
    "# Else setelah For\n",
    "for n in range(2, 10):\n",
    "    for x in range(2, n):\n",
    "        if n % x == 0:\n",
    "            print(n, 'equals', x, '*', n/x)\n",
    "            break"
   ]
  },
  {
   "cell_type": "code",
   "execution_count": 153,
   "metadata": {},
   "outputs": [
    {
     "name": "stdout",
     "output_type": "stream",
     "text": [
      "3  adalah bilangan prima\n",
      "4 equals 2 * 2.0\n",
      "5  adalah bilangan prima\n",
      "5  adalah bilangan prima\n",
      "5  adalah bilangan prima\n",
      "6 equals 2 * 3.0\n",
      "7  adalah bilangan prima\n",
      "7  adalah bilangan prima\n",
      "7  adalah bilangan prima\n",
      "7  adalah bilangan prima\n",
      "7  adalah bilangan prima\n",
      "8 equals 2 * 4.0\n",
      "9  adalah bilangan prima\n",
      "9 equals 3 * 3.0\n"
     ]
    }
   ],
   "source": [
    "for n in range(2, 10):\n",
    "    for x in range(2, n):\n",
    "        if n % x == 0:\n",
    "            print( n, 'equals', x, '*', n/x)\n",
    "            break\n",
    "        else:\n",
    "            # loop fell through without finding a factor\n",
    "            print(n, ' adalah bilangan prima')"
   ]
  },
  {
   "cell_type": "code",
   "execution_count": 156,
   "metadata": {},
   "outputs": [
    {
     "name": "stdout",
     "output_type": "stream",
     "text": [
      "9\n",
      "8\n"
     ]
    }
   ],
   "source": [
    "# Else setelah While\n",
    "n = 10\n",
    "while n > 0:\n",
    "    n = n - 1\n",
    "    if n == 7:\n",
    "        break\n",
    "    print(n)\n",
    "else:\n",
    "    print(\"Loop selesai\")"
   ]
  },
  {
   "cell_type": "code",
   "execution_count": 157,
   "metadata": {},
   "outputs": [
    {
     "name": "stdout",
     "output_type": "stream",
     "text": [
      "9\n",
      "8\n",
      "7\n",
      "6\n",
      "5\n",
      "4\n",
      "3\n",
      "2\n",
      "1\n",
      "0\n",
      "Loop selesai\n"
     ]
    }
   ],
   "source": [
    "n = 10\n",
    "while n > 0:\n",
    "    n = n - 1\n",
    "    print(n)\n",
    "else:\n",
    "    print(\"Loop selesai\")"
   ]
  },
  {
   "cell_type": "code",
   "execution_count": 159,
   "metadata": {},
   "outputs": [
    {
     "name": "stdout",
     "output_type": "stream",
     "text": [
      "Please enter an integer (type exit to exit): 1\n",
      "1\n",
      "Please enter an integer (type exit to exit): exit\n"
     ]
    },
    {
     "ename": "ValueError",
     "evalue": "invalid literal for int() with base 10: 'exit'",
     "output_type": "error",
     "traceback": [
      "\u001b[1;31m---------------------------------------------------------------------------\u001b[0m",
      "\u001b[1;31mValueError\u001b[0m                                Traceback (most recent call last)",
      "\u001b[1;32m<ipython-input-159-c0df8860b61a>\u001b[0m in \u001b[0;36m<module>\u001b[1;34m\u001b[0m\n\u001b[0;32m      3\u001b[0m \u001b[1;32mwhile\u001b[0m\u001b[1;33m(\u001b[0m\u001b[0mvar1\u001b[0m\u001b[1;33m!=\u001b[0m\u001b[1;34m\"exit\"\u001b[0m\u001b[1;33m)\u001b[0m\u001b[1;33m:\u001b[0m\u001b[1;33m\u001b[0m\u001b[1;33m\u001b[0m\u001b[0m\n\u001b[0;32m      4\u001b[0m     \u001b[0mvar1\u001b[0m\u001b[1;33m=\u001b[0m\u001b[0minput\u001b[0m\u001b[1;33m(\u001b[0m\u001b[1;34m\"Please enter an integer (type exit to exit): \"\u001b[0m\u001b[1;33m)\u001b[0m\u001b[1;33m\u001b[0m\u001b[1;33m\u001b[0m\u001b[0m\n\u001b[1;32m----> 5\u001b[1;33m     \u001b[0mprint\u001b[0m\u001b[1;33m(\u001b[0m\u001b[0mint\u001b[0m\u001b[1;33m(\u001b[0m\u001b[0mvar1\u001b[0m\u001b[1;33m)\u001b[0m\u001b[1;33m)\u001b[0m\u001b[1;33m\u001b[0m\u001b[1;33m\u001b[0m\u001b[0m\n\u001b[0m",
      "\u001b[1;31mValueError\u001b[0m: invalid literal for int() with base 10: 'exit'"
     ]
    }
   ],
   "source": [
    "# Pass\n",
    "var1=\"\"\n",
    "while(var1!=\"exit\"):\n",
    "    var1=input(\"Please enter an integer (type exit to exit): \")\n",
    "    print(int(var1))"
   ]
  },
  {
   "cell_type": "code",
   "execution_count": 161,
   "metadata": {},
   "outputs": [
    {
     "name": "stdout",
     "output_type": "stream",
     "text": [
      "Please enter an integer (type exit to exit): 1\n",
      "got integer: 1\n",
      "Please enter an integer (type exit to exit): exit\n"
     ]
    }
   ],
   "source": [
    "import sys\n",
    "data=''\n",
    "while(data!='exit'):\n",
    "    try:\n",
    "        data=input('Please enter an integer (type exit to exit): ')\n",
    "        print('got integer: {}'.format(int(data)))\n",
    "    except:\n",
    "        if data == 'exit':\n",
    "            pass  # exit gracefully without prompt any error\n",
    "        else:\n",
    "            print('error: {}'.format(sys.exc_info()[0]))"
   ]
  },
  {
   "cell_type": "code",
   "execution_count": 162,
   "metadata": {},
   "outputs": [
    {
     "name": "stdout",
     "output_type": "stream",
     "text": [
      "[1, 4, 9, 16]\n"
     ]
    }
   ],
   "source": [
    "# List Comprehension\n",
    "#Cara 1\n",
    "angka = [1, 2, 3, 4]\n",
    "pangkat = []\n",
    "for n in angka:\n",
    "    pangkat.append(n**2)\n",
    "print(pangkat)"
   ]
  },
  {
   "cell_type": "code",
   "execution_count": 163,
   "metadata": {},
   "outputs": [
    {
     "name": "stdout",
     "output_type": "stream",
     "text": [
      "[1, 4, 9, 16]\n"
     ]
    }
   ],
   "source": [
    "#Cara 2 List Comprehension\n",
    "angka = [1, 2, 3, 4]\n",
    "pangkat = [n**2 for n in angka]\n",
    "print(pangkat)"
   ]
  },
  {
   "cell_type": "code",
   "execution_count": 166,
   "metadata": {},
   "outputs": [
    {
     "name": "stdout",
     "output_type": "stream",
     "text": [
      "['d', 'i']\n"
     ]
    }
   ],
   "source": [
    "#Contoh3 menemukan item yang ada di kedua list\n",
    "list1 = ['d', 'i', 'c', 'o']\n",
    "list2 = ['d', 'i', 'n', 'g']\n",
    "duplikat = []\n",
    "for a in list1:\n",
    "    for b in list2:\n",
    "        if a == b:\n",
    "            duplikat.append(a)\n",
    "         \n",
    "print(duplikat)  # Output ['d','i']"
   ]
  },
  {
   "cell_type": "code",
   "execution_count": 167,
   "metadata": {},
   "outputs": [
    {
     "name": "stdout",
     "output_type": "stream",
     "text": [
      "['d', 'i']\n"
     ]
    }
   ],
   "source": [
    "#Contoh4 Implementasi dengan list comprehension\n",
    "list1 = ['d', 'i', 'c', 'o']\n",
    "list2 = ['d', 'i', 'n', 'g']\n",
    "duplikat = [a for a in list1 for b in list2 if a == b]\n",
    "print(duplikat) # Output: ['d','i']"
   ]
  },
  {
   "cell_type": "code",
   "execution_count": 168,
   "metadata": {},
   "outputs": [
    {
     "name": "stdout",
     "output_type": "stream",
     "text": [
      "['hello', 'world', 'in', 'python']\n"
     ]
    }
   ],
   "source": [
    "# Contoh 5 kecilkan semua huruf\n",
    "list_a = [\"Hello\", \"World\", \"In\", \"Python\"]\n",
    "small_list_a = [_.lower() for _ in list_a]\n",
    "print(small_list_a)"
   ]
  },
  {
   "cell_type": "code",
   "execution_count": 169,
   "metadata": {},
   "outputs": [
    {
     "name": "stdout",
     "output_type": "stream",
     "text": [
      "[[1, 1], [9, 27], [25, 125], [49, 343], [81, 729]]\n"
     ]
    }
   ],
   "source": [
    "list_a = range(1, 10, 2)\n",
    "x = [[a**2, a**3] for a in list_a]\n",
    "print(x)"
   ]
  },
  {
   "cell_type": "markdown",
   "metadata": {},
   "source": [
    "### Fungsi dan Method"
   ]
  },
  {
   "cell_type": "markdown",
   "metadata": {},
   "source": [
    "###### Fungsi - Definisi, Memanggil, dan Mengembalikan Fungsi"
   ]
  },
  {
   "cell_type": "code",
   "execution_count": 180,
   "metadata": {},
   "outputs": [
    {
     "name": "stdout",
     "output_type": "stream",
     "text": [
      "Panggilan Pertama\n",
      "Panggilan Kedua\n"
     ]
    }
   ],
   "source": [
    "# Fungsi\n",
    "def cetak( param1 ):\n",
    "    print(param1)\n",
    "    return\n",
    "     \n",
    "#panggil\n",
    "cetak(\"Panggilan Pertama\")\n",
    "cetak(\"Panggilan Kedua\")"
   ]
  },
  {
   "cell_type": "code",
   "execution_count": 181,
   "metadata": {},
   "outputs": [
    {
     "name": "stdout",
     "output_type": "stream",
     "text": [
      "Dicetak dari dalam fungsi: 200\n",
      "Dicetak sebagai kembalian: 200\n"
     ]
    }
   ],
   "source": [
    "def kali(angka1, angka2):\n",
    "    # Kalikan kedua parameter\n",
    "    hasil = angka1 * angka2\n",
    "    print('Dicetak dari dalam fungsi: {}'.format(hasil))\n",
    "    return hasil\n",
    "     \n",
    "# Panggil fungsi kali\n",
    "keluaran = kali(10, 20);\n",
    "print('Dicetak sebagai kembalian: {}'.format(keluaran))"
   ]
  },
  {
   "cell_type": "code",
   "execution_count": 182,
   "metadata": {},
   "outputs": [
    {
     "name": "stdout",
     "output_type": "stream",
     "text": [
      "nilai kuadrat dari 10 adalah 100\n"
     ]
    }
   ],
   "source": [
    "def kuadrat(x):\n",
    "    return x*x\n",
    "a = 10\n",
    "k = kuadrat(a)\n",
    "print('nilai kuadrat dari {} adalah {}'.format(a, k))"
   ]
  },
  {
   "cell_type": "code",
   "execution_count": 183,
   "metadata": {},
   "outputs": [
    {
     "name": "stdout",
     "output_type": "stream",
     "text": [
      "Nilai di dalam fungsi: [10, 20, 30, [1, 2, 3, 4]]\n",
      "Nilai di luar fungsi: [10, 20, 30, [1, 2, 3, 4]]\n"
     ]
    }
   ],
   "source": [
    "# Pass by reference vs value\n",
    "def ubah(list_saya):\n",
    "    list_saya.append([1, 2, 3, 4])\n",
    "    print('Nilai di dalam fungsi: {}'.format(list_saya))\n",
    "     \n",
    "# Panggil fungsi ubah\n",
    "list_saya = [10, 20, 30]\n",
    "ubah(list_saya)\n",
    "print('Nilai di luar fungsi: {}'.format(list_saya))"
   ]
  },
  {
   "cell_type": "code",
   "execution_count": 188,
   "metadata": {},
   "outputs": [
    {
     "name": "stdout",
     "output_type": "stream",
     "text": [
      "Nilai di dalam fungsi: [1, 2, 3, 4]\n",
      "Nilai di luar fungsi: [10, 20, 30]\n"
     ]
    }
   ],
   "source": [
    "def ubah(list_saya):\n",
    "    \"Deklarasi Variabel list_saya berikut hanya dikenali (berlaku) di dalam fungsi ubah\"\n",
    "    list_saya = [1, 2, 3, 4] \n",
    "    print ('Nilai di dalam fungsi: {}'.format(list_saya))\n",
    "     \n",
    "# Panggil fungsi ubah\n",
    "list_saya = [10, 20, 30]\n",
    "ubah(list_saya)\n",
    "print('Nilai di luar fungsi: {}'.format(list_saya))"
   ]
  },
  {
   "cell_type": "markdown",
   "metadata": {},
   "source": [
    "###### Fungsi - Argumen dan Parameter"
   ]
  },
  {
   "cell_type": "code",
   "execution_count": 187,
   "metadata": {},
   "outputs": [
    {
     "name": "stdout",
     "output_type": "stream",
     "text": [
      "argumen posisi 1\n",
      "argumen posisi 2\n",
      "argumen posisi 3\n",
      "argumen kata kunci i:7\n",
      "argumen kata kunci j:8\n",
      "argumen kata kunci k:9\n",
      "argumen posisi 1\n",
      "argumen posisi 2\n",
      "argumen kata kunci j:8\n",
      "argumen kata kunci k:9\n",
      "argumen posisi 2\n",
      "argumen posisi 3\n",
      "argumen kata kunci i:7\n",
      "argumen kata kunci j:8\n"
     ]
    }
   ],
   "source": [
    "def printinfo(*args, **kwargs):\n",
    "    for a in args:\n",
    "        print('argumen posisi {}'.format(a))\n",
    "    for key, value in kwargs.items():\n",
    "        print('argumen kata kunci {}:{}'.format(key, value))\n",
    "     \n",
    "     \n",
    "# Panggil printinfo\n",
    "printinfo()\n",
    "printinfo(1, 2, 3)\n",
    "printinfo(i=7, j=8, k=9)\n",
    "printinfo(1, 2, j=8, k=9)\n",
    "printinfo(*(2, 3), **{'i':7, 'j':8})"
   ]
  },
  {
   "cell_type": "code",
   "execution_count": 189,
   "metadata": {},
   "outputs": [
    {
     "name": "stdout",
     "output_type": "stream",
     "text": [
      "Hasil :  231\n",
      "Hasil :  4\n"
     ]
    }
   ],
   "source": [
    "# Fungsi Anonim\n",
    "kali = lambda nilai1, nilai2: nilai1 * nilai2;\n",
    "print (\"Hasil : \", kali( 11, 21 ))\n",
    "print (\"Hasil : \", kali( 2, 2 ))"
   ]
  },
  {
   "cell_type": "markdown",
   "metadata": {},
   "source": [
    "###### Unit Testing"
   ]
  },
  {
   "cell_type": "code",
   "execution_count": 198,
   "metadata": {},
   "outputs": [
    {
     "name": "stderr",
     "output_type": "stream",
     "text": [
      "E\n",
      "======================================================================\n",
      "ERROR: C:\\Users\\User\\AppData\\Roaming\\jupyter\\runtime\\kernel-22d91a84-f0ae-4b67-afc3-233af31fb393 (unittest.loader._FailedTest)\n",
      "----------------------------------------------------------------------\n",
      "AttributeError: module '__main__' has no attribute 'C:\\Users\\User\\AppData\\Roaming\\jupyter\\runtime\\kernel-22d91a84-f0ae-4b67-afc3-233af31fb393'\n",
      "\n",
      "----------------------------------------------------------------------\n",
      "Ran 1 test in 0.001s\n",
      "\n",
      "FAILED (errors=1)\n"
     ]
    },
    {
     "ename": "SystemExit",
     "evalue": "True",
     "output_type": "error",
     "traceback": [
      "An exception has occurred, use %tb to see the full traceback.\n",
      "\u001b[1;31mSystemExit\u001b[0m\u001b[1;31m:\u001b[0m True\n"
     ]
    },
    {
     "name": "stderr",
     "output_type": "stream",
     "text": [
      "C:\\Users\\User\\anaconda3\\lib\\site-packages\\IPython\\core\\interactiveshell.py:3351: UserWarning: To exit: use 'exit', 'quit', or Ctrl-D.\n",
      "  warn(\"To exit: use 'exit', 'quit', or Ctrl-D.\", stacklevel=1)\n"
     ]
    }
   ],
   "source": [
    "import unittest\n",
    "     \n",
    "class TestStringMethods(unittest.TestCase):\n",
    "    \n",
    "    def test_strip(self):\n",
    "        self.assertEqual('www.dicoding.com'.strip('c.mow'), 'dicoding')\n",
    "        \n",
    "    def test_isalnum(self):\n",
    "        self.assertTrue('c0d1ng'.isalnum())\n",
    "        self.assertFalse('c0d!ng'.isalnum())\n",
    "        \n",
    "    def test_index(self):\n",
    "        s = 'dicoding'\n",
    "        self.assertEqual(s.index('coding'), 2)\n",
    "        # cek s.index gagal ketika tidak ditemukan\n",
    "        with self.assertRaises(ValueError):\n",
    "            s.index('decode')\n",
    "    \n",
    "if __name__ == '__main__':\n",
    "    unittest.main()"
   ]
  },
  {
   "cell_type": "code",
   "execution_count": 199,
   "metadata": {},
   "outputs": [],
   "source": [
    "def test_isalnum(self):\n",
    "        self.assertTrue('c0d1ng'.isalnum())  # ini akan berhasil\n",
    "        self.assertTrue('c0d!ng'.isalnum())  # ini akan gagal"
   ]
  },
  {
   "cell_type": "code",
   "execution_count": 200,
   "metadata": {},
   "outputs": [
    {
     "name": "stderr",
     "output_type": "stream",
     "text": [
      "E\n",
      "======================================================================\n",
      "ERROR: C:\\Users\\User\\AppData\\Roaming\\jupyter\\runtime\\kernel-22d91a84-f0ae-4b67-afc3-233af31fb393 (unittest.loader._FailedTest)\n",
      "----------------------------------------------------------------------\n",
      "AttributeError: module '__main__' has no attribute 'C:\\Users\\User\\AppData\\Roaming\\jupyter\\runtime\\kernel-22d91a84-f0ae-4b67-afc3-233af31fb393'\n",
      "\n",
      "----------------------------------------------------------------------\n",
      "Ran 1 test in 0.001s\n",
      "\n",
      "FAILED (errors=1)\n"
     ]
    },
    {
     "ename": "SystemExit",
     "evalue": "True",
     "output_type": "error",
     "traceback": [
      "An exception has occurred, use %tb to see the full traceback.\n",
      "\u001b[1;31mSystemExit\u001b[0m\u001b[1;31m:\u001b[0m True\n"
     ]
    },
    {
     "name": "stderr",
     "output_type": "stream",
     "text": [
      "C:\\Users\\User\\anaconda3\\lib\\site-packages\\IPython\\core\\interactiveshell.py:3351: UserWarning: To exit: use 'exit', 'quit', or Ctrl-D.\n",
      "  warn(\"To exit: use 'exit', 'quit', or Ctrl-D.\", stacklevel=1)\n"
     ]
    }
   ],
   "source": [
    "import unittest\n",
    "     \n",
    "def koneksi_ke_db():\n",
    "    print('[terhubung ke db]')\n",
    "def putus_koneksi_db(db):\n",
    "    print('[tidak terhubung ke db {}]'.format(db))\n",
    "     \n",
    "class User:\n",
    "    username = ''\n",
    "    aktif = False\n",
    "    def __init__(self, db, username):  # using db sample\n",
    "        self.username = username\n",
    "    def set_aktif(self):\n",
    "        self.aktif = True\n",
    "\n",
    "class TestUser(unittest.TestCase):\n",
    "    def test_user_default_not_active(self):\n",
    "        db = koneksi_ke_db()\n",
    "        dicoding = User(db, 'dicoding')\n",
    "        self.assertFalse(dicoding.aktif)  # tidak aktif secara default\n",
    "        putus_koneksi_db(db)\n",
    "     \n",
    "    def test_user_is_active(self):\n",
    "        db = koneksi_ke_db()\n",
    "        dicoding = User(db, 'dicoding')\n",
    "        dicoding.set_aktif()  # aktifkan user baru\n",
    "        self.assertTrue(dicoding.aktif)\n",
    "        putus_koneksi_db(db)\n",
    "\n",
    "if __name__ == '__main__':\n",
    "    unittest.main()"
   ]
  },
  {
   "cell_type": "code",
   "execution_count": 201,
   "metadata": {},
   "outputs": [],
   "source": [
    "class TestUser(unittest.TestCase):\n",
    "    def setUp(self):\n",
    "        self.db = koneksi_ke_db()\n",
    "        self.dicoding = User(self.db, 'dicoding')\n",
    "     \n",
    "    def tearDown(self):\n",
    "        putus_koneksi_db(self.db)\n",
    "        \n",
    "    def test_user_default_not_active(self):\n",
    "        self.assertFalse(self.dicoding.aktif)  # tidak aktif secara default\n",
    "     \n",
    "    def test_user_is_active(self):\n",
    "        self.dicoding.set_aktif()  # aktifkan user baru\n",
    "        self.assertTrue(self.dicoding.aktif)"
   ]
  }
 ],
 "metadata": {
  "kernelspec": {
   "display_name": "Python 3",
   "language": "python",
   "name": "python3"
  },
  "language_info": {
   "codemirror_mode": {
    "name": "ipython",
    "version": 3
   },
   "file_extension": ".py",
   "mimetype": "text/x-python",
   "name": "python",
   "nbconvert_exporter": "python",
   "pygments_lexer": "ipython3",
   "version": "3.8.3"
  }
 },
 "nbformat": 4,
 "nbformat_minor": 4
}
